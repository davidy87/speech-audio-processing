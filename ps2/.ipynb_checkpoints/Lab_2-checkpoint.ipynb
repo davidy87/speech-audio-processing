{
 "cells": [
  {
   "cell_type": "code",
   "execution_count": 362,
   "metadata": {},
   "outputs": [
    {
     "name": "stdout",
     "output_type": "stream",
     "text": [
      "MyModel(\n",
      "  (fnn): Sequential(\n",
      "    (0): Linear(in_features=440, out_features=4096, bias=True)\n",
      "    (1): Sigmoid()\n",
      "    (2): Linear(in_features=4096, out_features=48, bias=True)\n",
      "  )\n",
      ")\n",
      "Begin training network\n",
      "Training finished.\n",
      "Test accuracy: 59 %\n",
      "defaultdict(<class 'int'>, {'sil': 88, 'ax': 45, 'vcl': 61, 'b': 73, 'ih': 19, 'g': 63, 'ow': 42, 'cl': 66, 'ay': 60, 'd': 47, 'l': 38, 'iy': 54, 'ae': 62, 'm': 64, 'el': 70, 'th': 58, 'r': 77, 'uw': 56, 'dh': 58, 'f': 74, 'aa': 38, 'y': 84, 's': 80, 'k': 59, 't': 79, 'eh': 49, 'jh': 64, 'ix': 50, 'z': 64, 'p': 58, 'er': 53, 'ng': 76, 'n': 39, 'dx': 84, 'ch': 63, 'hh': 53, 'v': 46, 'w': 81, 'ao': 52, 'ey': 74, 'sh': 88, 'uh': 34, 'oy': 54, 'ah': 26, 'aw': 66, 'epi': 78, 'en': 50, 'zh': 5})\n"
     ]
    }
   ],
   "source": [
    "import numpy as np\n",
    "import torch\n",
    "import torch.nn as nn\n",
    "import torch.nn.functional as F\n",
    "import torch.optim as optim\n",
    "from collections import defaultdict\n",
    "\n",
    "# Load the dataset\n",
    "data = np.load('lab2_dataset.npz')\n",
    "train_feats = torch.tensor(data['train_feats'])\n",
    "test_feats = torch.tensor(data['test_feats'])\n",
    "train_labels = torch.tensor(data['train_labels'])\n",
    "test_labels = torch.tensor(data['test_labels'])\n",
    "phone_labels = data['phone_labels']\n",
    "\n",
    "# Set up the dataloaders\n",
    "train_dataset = torch.utils.data.TensorDataset(train_feats, train_labels)\n",
    "train_loader = torch.utils.data.DataLoader(train_dataset, batch_size=128, shuffle=True)\n",
    "\n",
    "test_dataset = torch.utils.data.TensorDataset(test_feats, test_labels)\n",
    "test_loader = torch.utils.data.DataLoader(test_dataset, batch_size=128, shuffle=False)\n",
    "\n",
    "\n",
    "# Define the model architecture\n",
    "class MyModel(nn.Module):\n",
    "    def __init__(self):\n",
    "        super(MyModel, self).__init__()\n",
    "        # TODO: Fill in the model's layers here\n",
    "        self.fnn = nn.Sequential(nn.Linear(11 * 40, 4096), nn.Sigmoid(), nn.Linear(4096, 48))\n",
    "\n",
    "        \n",
    "    def forward(self, x):\n",
    "        # TODO: Fill in the forward pass here\n",
    "        x = x.view(x.size(0), -1)\n",
    "        x = self.fnn(x)\n",
    "\n",
    "        return x\n",
    "\n",
    "\n",
    "# Instantiate the model, loss function, and optimizer\n",
    "model = MyModel()\n",
    "criterion = nn.CrossEntropyLoss()\n",
    "optimizer = optim.SGD(model.parameters(), lr=0.001, momentum=0.9)\n",
    "# optimizer = optim.Adam(model.parameters(), lr=0.0015)\n",
    "\n",
    "print(model)\n",
    "\n",
    "    \n",
    "def train_network(model, train_loader, criterion, optimizer):\n",
    "    # TODO: fill in\n",
    "    print(\"Begin training network\")\n",
    "    for epoch in range(10):\n",
    "        for i, (inputs, labels) in enumerate(train_loader, 0):\n",
    "            optimizer.zero_grad()\n",
    "            outputs = model(inputs)\n",
    "            loss = criterion(outputs, labels)\n",
    "            loss.backward()\n",
    "            optimizer.step()\n",
    "            \n",
    "    print(\"Training finished.\")\n",
    "\n",
    "predicted_list = []\n",
    "label_list = []\n",
    "individual_acc = defaultdict(int)\n",
    "\n",
    "def test_network(model, test_loader):\n",
    "    correct = 0\n",
    "    total = 0\n",
    "    with torch.no_grad():\n",
    "        for data in test_loader:\n",
    "            inputs, labels = data\n",
    "            outputs = model(inputs)\n",
    "            _, predicted = torch.max(outputs.data, 1)\n",
    "            \n",
    "#             predicted_list.append(predicted)\n",
    "#             label_list.append(labels)\n",
    "            \n",
    "            for i, label in enumerate(labels):\n",
    "                if predicted[i] == label:\n",
    "                    individual_acc[phone_labels[label]] += 1\n",
    "            \n",
    "            print(labels.size(0))\n",
    "            total += labels.size(0)\n",
    "            correct += (predicted == labels).sum().item()\n",
    "                \n",
    "    print('Test accuracy: %d %%' % (100 * correct / total))\n",
    "    \n",
    "\n",
    "train_network(model, train_loader, criterion, optimizer)\n",
    "test_network(model, test_loader)\n",
    "\n",
    "print(individual_acc)"
   ]
  },
  {
   "cell_type": "code",
   "execution_count": 365,
   "metadata": {},
   "outputs": [
    {
     "name": "stdout",
     "output_type": "stream",
     "text": [
      "0.5912424051958936\n"
     ]
    }
   ],
   "source": [
    "\n",
    "\n",
    "# predict_counter = Counter(torch.cat(predicted_list).tolist())\n",
    "# labels_counter = Counter(torch.cat(label_list).tolist())\n",
    "\n",
    "# individual_acc = {}\n",
    "\n",
    "# for k in predict_counter.keys():\n",
    "#     print(labels_counter[k])\n",
    "    \n",
    "            "
   ]
  },
  {
   "cell_type": "code",
   "execution_count": null,
   "metadata": {},
   "outputs": [],
   "source": []
  }
 ],
 "metadata": {
  "kernelspec": {
   "display_name": "Python 3 (ipykernel)",
   "language": "python",
   "name": "python3"
  },
  "language_info": {
   "codemirror_mode": {
    "name": "ipython",
    "version": 3
   },
   "file_extension": ".py",
   "mimetype": "text/x-python",
   "name": "python",
   "nbconvert_exporter": "python",
   "pygments_lexer": "ipython3",
   "version": "3.7.16"
  }
 },
 "nbformat": 4,
 "nbformat_minor": 4
}
